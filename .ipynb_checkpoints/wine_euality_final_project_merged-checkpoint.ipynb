{
 "cells": [
  {
   "cell_type": "markdown",
   "id": "f6e8a082",
   "metadata": {},
   "source": [
    "# Wine Quality Prediction "
   ]
  },
  {
   "cell_type": "code",
   "execution_count": null,
   "id": "0d80f019",
   "metadata": {},
   "outputs": [],
   "source": [
    "# Import the libraries\n",
    "import psycopg2\n",
    "import pandas as pd\n",
    "import numpy as np\n",
    "from sklearn.preprocessing import MinMaxScaler\n",
    "from matplotlib import pyplot as plt\n",
    "%matplotlib inline\n",
    "from sklearn.model_selection import train_test_split\n",
    "from sklearn.ensemble import RandomForestClassifier\n",
    "from sklearn.metrics import confusion_matrix, accuracy_score, classification_report\n",
    "from sklearn.preprocessing import StandardScaler\n",
    "import plotly.express as px"
   ]
  },
  {
   "cell_type": "code",
   "execution_count": null,
   "id": "7f10ce26",
   "metadata": {},
   "outputs": [],
   "source": [
    "# Created a connection string to connect to the AWS database\n",
    "conn = psycopg2.connect(host=\"dbfinalproject.c5qdbdj5dsfl.us-east-2.rds.amazonaws.com\", port = 5432, database=\"dbRedwine\", user=\"postgres\", password=\"Raindrops12\")"
   ]
  },
  {
   "cell_type": "code",
   "execution_count": null,
   "id": "13aeecbf",
   "metadata": {
    "scrolled": true
   },
   "outputs": [],
   "source": [
    "# Query run of all the data from the redwine table in pgadmin\n",
    "\n",
    "df_wine = pd.read_sql(\"\"\"\n",
    "SELECT * FROM redwine  \n",
    "\"\"\",con= conn)\n",
    "\n",
    "df_wine.head()"
   ]
  },
  {
   "cell_type": "code",
   "execution_count": null,
   "id": "5f607e13",
   "metadata": {
    "scrolled": true
   },
   "outputs": [],
   "source": [
    "# Query run of all the data from the quality_description table in pgadmin\n",
    "\n",
    "df_qualitydes = pd.read_sql(\"\"\"\n",
    "SELECT * FROM quality_description\n",
    "\"\"\",con= conn)\n",
    "\n",
    "df_qualitydes.head()"
   ]
  },
  {
   "cell_type": "markdown",
   "id": "08763a87",
   "metadata": {},
   "source": [
    "## Joining Tables"
   ]
  },
  {
   "cell_type": "code",
   "execution_count": null,
   "id": "4785db35",
   "metadata": {
    "scrolled": true
   },
   "outputs": [],
   "source": [
    "## Joined the two tables\n",
    "df_joined = pd.read_sql(\"\"\"\n",
    "SELECT a.*,b.description FROM redwine a inner join quality_description b on a.quality = b.quality \n",
    "\"\"\",con= conn)\n",
    "\n",
    "df_joined.head()"
   ]
  },
  {
   "cell_type": "markdown",
   "id": "e70d16a6",
   "metadata": {},
   "source": [
    "## Exploratory Data Analysis(EDA)"
   ]
  },
  {
   "cell_type": "code",
   "execution_count": null,
   "id": "99212659",
   "metadata": {},
   "outputs": [],
   "source": [
    "## Get information about the dataset (information about a DataFrame including the index dtype and column dtypes,\n",
    "## non-null values, and memory usage.)\n",
    "df_joined.info()"
   ]
  },
  {
   "cell_type": "code",
   "execution_count": null,
   "id": "ff803463",
   "metadata": {},
   "outputs": [],
   "source": [
    "# To check missing values in each column. \n",
    "df_joined.isnull().sum()"
   ]
  },
  {
   "cell_type": "markdown",
   "id": "eb532ef4",
   "metadata": {},
   "source": [
    "**There are no null values**"
   ]
  },
  {
   "cell_type": "code",
   "execution_count": null,
   "id": "8e8d3ae8",
   "metadata": {},
   "outputs": [],
   "source": [
    "# Number of unique value in each features\n",
    "for col in df_joined.columns.values:\n",
    "    print(\"Number of unique values of {}:{}\".format(col, df_joined[col].unique()))"
   ]
  },
  {
   "cell_type": "code",
   "execution_count": null,
   "id": "dbfbf3c7",
   "metadata": {},
   "outputs": [],
   "source": [
    "## Viewing the number of dimensions as well as the size in each dimension.\n",
    "## the number of rows and columns.\n",
    "df_joined.shape"
   ]
  },
  {
   "cell_type": "markdown",
   "id": "72b2e336",
   "metadata": {},
   "source": [
    "**There are 1599 rows and 13 columns**"
   ]
  },
  {
   "cell_type": "code",
   "execution_count": null,
   "id": "31102547",
   "metadata": {},
   "outputs": [],
   "source": [
    "# Checking the value of numbers under each quality\n",
    "df_joined['quality'].value_counts()"
   ]
  },
  {
   "cell_type": "code",
   "execution_count": null,
   "id": "6460b1ce",
   "metadata": {},
   "outputs": [],
   "source": [
    "diag = px.pie(df_joined, values='quality', names='quality', hole=0.5)\n",
    "diag.show()"
   ]
  },
  {
   "cell_type": "markdown",
   "id": "d7c2dbde",
   "metadata": {},
   "source": [
    "**Maximum number of values are for 5 and 6**"
   ]
  },
  {
   "cell_type": "code",
   "execution_count": null,
   "id": "c519915b",
   "metadata": {},
   "outputs": [],
   "source": [
    "## To view the statistical summary of the dataframe\n",
    "df_joined.describe()"
   ]
  },
  {
   "cell_type": "markdown",
   "id": "4132b45e",
   "metadata": {},
   "source": [
    "**Observations**:\n",
    "- The average wine quality is 6. The mininum is 3 and maximum is 8\n",
    "- The maximum alchol level is 14.9 and minimum is 8.4\n",
    "- Maximum sulphate is 2 and minimum is 0.33\n",
    "- Maximum citric acid is 1 and minimum is 0."
   ]
  },
  {
   "cell_type": "code",
   "execution_count": null,
   "id": "9ae140ed",
   "metadata": {
    "scrolled": true
   },
   "outputs": [],
   "source": [
    "#observing the correlation between features and target variable. \n",
    "wine_corr = df_joined.corr( )\n",
    "wine_corr"
   ]
  },
  {
   "cell_type": "markdown",
   "id": "ac0c297c",
   "metadata": {},
   "source": [
    "- The variables with greater correlation values with quality are Alcohol, Volatile Acidity and Sulphates.\n"
   ]
  },
  {
   "cell_type": "code",
   "execution_count": null,
   "id": "bc38c79d",
   "metadata": {
    "scrolled": true
   },
   "outputs": [],
   "source": [
    "## Correlation between quality and other features.\n",
    "wine_corr['quality'].sort_values(ascending=False)"
   ]
  },
  {
   "cell_type": "code",
   "execution_count": null,
   "id": "e6cc0710",
   "metadata": {},
   "outputs": [],
   "source": [
    "# Ploting the heatmap to understand the correlation between the columns\n",
    "import seaborn as sns\n",
    "plt.figure(figsize=(10, 10))\n",
    "sns.heatmap(wine_corr, cbar=True, square=True, fmt = '.1f', annot=True, annot_kws={'size':8}, cmap = 'Reds')"
   ]
  },
  {
   "cell_type": "markdown",
   "id": "3d8bdb92",
   "metadata": {},
   "source": [
    "**Observations:**\n",
    "- Darker the color, higher is the correlation of the column with the quality\n",
    "- The dark color represents the positive correlation, i.e., they are directly proportinal \n",
    "- The light color represents the negative correlation, i.e., they are inversely proportinal\n",
    "- Alcohol and sulphates have positive correlation to quality\n",
    "- Volatile acidity is  negatively correlated to quality\n",
    "- Citric acidity has positive correlation to quality\n",
    "- It looks like fixed acidity has no impact on the  quality of the wine\n",
    "- Total sulphur dioxide has negative correlation to the quality\n",
    "- Residual sugar are almost the same for different wines\n",
    "\n"
   ]
  },
  {
   "cell_type": "code",
   "execution_count": null,
   "id": "0d5b3e25",
   "metadata": {},
   "outputs": [],
   "source": [
    "sns.lmplot(x=\"quality\", y=\"sulphates\", data=df_joined)"
   ]
  },
  {
   "cell_type": "markdown",
   "id": "99d3317b",
   "metadata": {},
   "source": [
    "- **Sulphates (positive correlation): wine quality gets better when the sulphates are more**"
   ]
  },
  {
   "cell_type": "code",
   "execution_count": null,
   "id": "877d8ad3",
   "metadata": {},
   "outputs": [],
   "source": [
    "sns.lmplot(x=\"quality\", y=\"alcohol\", data=df_joined)"
   ]
  },
  {
   "cell_type": "markdown",
   "id": "c0568e9e",
   "metadata": {},
   "source": [
    "- **Alcohol (positive correlation): wine quality is better when alcohol is high**"
   ]
  },
  {
   "cell_type": "code",
   "execution_count": null,
   "id": "fc16dc5b",
   "metadata": {},
   "outputs": [],
   "source": [
    "sns.lmplot(x=\"quality\", y=\"volatile_acidity\", data=df_joined)"
   ]
  },
  {
   "cell_type": "markdown",
   "id": "f3947c2c",
   "metadata": {},
   "source": [
    "- **Higher the volatile acidity, lower the quality**"
   ]
  },
  {
   "cell_type": "code",
   "execution_count": null,
   "id": "82d78f13",
   "metadata": {
    "scrolled": true
   },
   "outputs": [],
   "source": [
    "plt.figure(figsize=(15, 15))\n",
    "\n",
    "plt.subplot(3,3,1)\n",
    "sns.barplot(x = 'quality', y = 'total_sulfur_dioxide', data = df_joined)\n",
    "\n",
    "plt.subplot(3,3,2)\n",
    "sns.barplot(x = 'quality', y = 'citric_acid', data = df_joined)\n",
    "\n",
    "plt.subplot(3,3,3)\n",
    "sns.barplot(x = 'quality', y = 'chlorides', data = df_joined)"
   ]
  },
  {
   "cell_type": "markdown",
   "id": "1816e6bb",
   "metadata": {},
   "source": [
    "**Observation:**\n",
    "\n",
    "- Total_sulfur_dioxide and quality of the wine are inverserly proportional. When the total_sulfur_dioxide is high, wine quality   is low\n",
    "- If the content of citric acid is more, wine quality is better. So, citric acid is directly proportinal to quality\n",
    "- Chlorides is inversely proportional to wine quality. When it's high, the quality is low"
   ]
  },
  {
   "cell_type": "markdown",
   "id": "eb1d9823",
   "metadata": {},
   "source": [
    "## Decision Trees with wine data"
   ]
  },
  {
   "cell_type": "markdown",
   "id": "061ef737",
   "metadata": {},
   "source": [
    "- Data precrocessing will be kept to a minimum, because there are no null values, no missing values, and all values are numerical.\n",
    "- Features to be engineered are all 11 phsyiochemical inputs, providing the most data to train the model.\n",
    "- Training data will represent 80% of the data\n",
    "- Testing data will represent 20% of the data\n",
    "- A Decision tree model was chosen, because:\n",
    "    - Despite the longer computation expense, the dataset being used is reasonably small and manageable w/respect to computation time\n",
    "    - Because missing data effects this type of model the least, this allows us to use this type of model in the future if we have less information about a wine"
   ]
  },
  {
   "cell_type": "code",
   "execution_count": null,
   "id": "f77600e8",
   "metadata": {},
   "outputs": [],
   "source": [
    "# Initial imports\n",
    "import psycopg2\n",
    "import pandas as pd\n",
    "from path import Path\n",
    "from sklearn import tree\n",
    "from sklearn.preprocessing import StandardScaler\n",
    "from sklearn.model_selection import train_test_split\n",
    "from sklearn.metrics import confusion_matrix, accuracy_score, classification_report\n",
    "\n",
    "# Needed for decision tree visualization\n",
    "import pydotplus\n",
    "from IPython.display import Image"
   ]
  },
  {
   "cell_type": "code",
   "execution_count": null,
   "id": "b9198b49",
   "metadata": {},
   "outputs": [],
   "source": [
    "# Created a connection string to connect to the AWS database\n",
    "conn = psycopg2.connect(host=\"dbfinalproject.c5qdbdj5dsfl.us-east-2.rds.amazonaws.com\", port = 5432, database=\"dbRedwine\", user=\"postgres\", password=\"Raindrops12\")"
   ]
  },
  {
   "cell_type": "code",
   "execution_count": null,
   "id": "13aeecbf",
   "metadata": {
    "scrolled": true
   },
   "outputs": [],
   "source": [
    "# Query run of all the data from the redwine table in pgadmin\n",
    "\n",
    "df_wine = pd.read_sql(\"\"\"\n",
    "SELECT * FROM redwine  \n",
    "\"\"\",con= conn)\n",
    "\n",
    "df_wine.head()"
   ]
  },
  {
   "cell_type": "code",
   "execution_count": null,
   "id": "5f607e13",
   "metadata": {
    "scrolled": true
   },
   "outputs": [],
   "source": [
    "# Query run of all the data from the quality_description table in pgadmin\n",
    "\n",
    "df_qualitydes = pd.read_sql(\"\"\"\n",
    "SELECT * FROM quality_description\n",
    "\"\"\",con= conn)\n",
    "\n",
    "df_qualitydes.head()"
   ]
  },
  {
   "cell_type": "code",
   "execution_count": null,
   "id": "4785db35",
   "metadata": {
    "scrolled": true
   },
   "outputs": [],
   "source": [
    "## Joined the two tables\n",
    "df_joined = pd.read_sql(\"\"\"\n",
    "SELECT a.*,b.description FROM redwine a inner join quality_description b on a.quality = b.quality \n",
    "\"\"\",con= conn)\n",
    "\n",
    "df.head()"
   ]
  },
  {
   "cell_type": "markdown",
   "id": "be503645",
   "metadata": {},
   "source": [
    "## Preprocessing Wine Data"
   ]
  },
  {
   "cell_type": "code",
   "execution_count": null,
   "id": "fed93146",
   "metadata": {},
   "outputs": [],
   "source": [
    "# Define features set\n",
    "X = df.copy()\n",
    "X = X.drop(columns =[\"quality\", \"description\"])\n",
    "X.head()"
   ]
  },
  {
   "cell_type": "code",
   "execution_count": null,
   "id": "a1e30d58",
   "metadata": {},
   "outputs": [],
   "source": [
    "# Define target vector\n",
    "y = df[\"description\"].values.reshape(-1, 1)\n",
    "y[:5]"
   ]
  },
  {
   "cell_type": "code",
   "execution_count": null,
   "id": "527d7cf6",
   "metadata": {},
   "outputs": [],
   "source": [
    "# Splitting into Train and Test sets\n",
    "X_train, X_test, y_train, y_test = train_test_split(X, y, random_state=78)"
   ]
  },
  {
   "cell_type": "code",
   "execution_count": null,
   "id": "1f335c0a",
   "metadata": {},
   "outputs": [],
   "source": [
    "print(X_train.shape)\n",
    "print(X_test.shape)\n",
    "print(y_train.shape)\n",
    "print(y_test.shape)"
   ]
  },
  {
   "cell_type": "code",
   "execution_count": null,
   "id": "34d7710c",
   "metadata": {},
   "outputs": [],
   "source": [
    "X_train2, X_test2, y_train2, y_test2 = train_test_split(X, y, random_state=78, train_size=0.80)"
   ]
  },
  {
   "cell_type": "code",
   "execution_count": null,
   "id": "5e4b0b19",
   "metadata": {},
   "outputs": [],
   "source": [
    "print(X_train2.shape)\n",
    "print(X_test2.shape)\n",
    "print(y_train2.shape)\n",
    "print(y_test2.shape)"
   ]
  },
  {
   "cell_type": "code",
   "execution_count": null,
   "id": "6a206116",
   "metadata": {},
   "outputs": [],
   "source": [
    "# Creating StandardScaler instance\n",
    "scaler = StandardScaler()"
   ]
  },
  {
   "cell_type": "code",
   "execution_count": null,
   "id": "ae15fec6",
   "metadata": {},
   "outputs": [],
   "source": [
    "# Fitting Standard Scaller\n",
    "X_scaler = scaler.fit(X_train)"
   ]
  },
  {
   "cell_type": "code",
   "execution_count": null,
   "id": "9a539b87",
   "metadata": {},
   "outputs": [],
   "source": [
    "# Scaling data\n",
    "X_train_scaled = X_scaler.transform(X_train)\n",
    "X_test_scaled = X_scaler.transform(X_test)\n"
   ]
  },
  {
   "cell_type": "markdown",
   "id": "7d7021bd",
   "metadata": {},
   "source": [
    "## Fitting the Decision Tree Model"
   ]
  },
  {
   "cell_type": "code",
   "execution_count": null,
   "id": "21fde6a6",
   "metadata": {},
   "outputs": [],
   "source": [
    "# Creating the decision tree classifier instance\n",
    "model = tree.DecisionTreeClassifier()"
   ]
  },
  {
   "cell_type": "code",
   "execution_count": null,
   "id": "ab18dc8a",
   "metadata": {},
   "outputs": [],
   "source": [
    "# Fitting the model\n",
    "model = model.fit(X_train_scaled, y_train)"
   ]
  },
  {
   "cell_type": "markdown",
   "id": "afb55c5f",
   "metadata": {},
   "source": [
    "## Making Predictions Using the Tree Model"
   ]
  },
  {
   "cell_type": "code",
   "execution_count": null,
   "id": "1c8ad6fb",
   "metadata": {},
   "outputs": [],
   "source": [
    "# Making predictions using the testing data\n",
    "predictions = model.predict(X_test_scaled)"
   ]
  },
  {
   "cell_type": "markdown",
   "id": "2a235864",
   "metadata": {},
   "source": [
    "## Model Evaluation"
   ]
  },
  {
   "cell_type": "code",
   "execution_count": null,
   "id": "8b41e968",
   "metadata": {},
   "outputs": [],
   "source": [
    "# Calculating the confusion matrix\n",
    "cm = confusion_matrix(y_test, predictions)\n",
    "cm_df = pd.DataFrame(\n",
    "    cm, index=[\"Actual 0\", \"Actual 1\"], columns=[\"Predicted 0\", \"Predicted 1\"]\n",
    ")\n",
    "\n",
    "# Calculating the accuracy score\n",
    "acc_score = accuracy_score(y_test, predictions)"
   ]
  },
  {
   "cell_type": "code",
   "execution_count": null,
   "id": "1626e122",
   "metadata": {},
   "outputs": [],
   "source": [
    "# Displaying results\n",
    "print(\"Confusion Matrix\")\n",
    "display(cm_df)\n",
    "print(f\"Accuracy Score : {acc_score}\")\n",
    "print(\"Classification Report\")\n",
    "print(classification_report(y_test, predictions))\n"
   ]
  },
  {
   "cell_type": "code",
   "execution_count": null,
   "id": "9bed1c21",
   "metadata": {},
   "outputs": [],
   "source": [
    "# Displaying results\n",
    "print(\"Confusion Matrix\")\n",
    "display(cm_df)\n",
    "print(f\"Accuracy Score : {acc_score}\")\n",
    "print(\"Classification Report\")\n",
    "print(classification_report(y_test, predictions))\n"
   ]
  },
  {
   "cell_type": "markdown",
   "id": "d11eed86",
   "metadata": {},
   "source": [
    "## Visualizng the Decision Tree"
   ]
  },
  {
   "cell_type": "code",
   "execution_count": null,
   "id": "2f4d5e79",
   "metadata": {
    "scrolled": true
   },
   "outputs": [],
   "source": [
    "# Create DOT data\n",
    "dot_data = tree.export_graphviz(\n",
    "    model, \n",
    "    out_file=None, \n",
    "    feature_names=X.columns, \n",
    "    class_names=[\"0\", \"1\"],\n",
    "    filled=True\n",
    ")\n",
    "# Draw graph\n",
    "graph = pydotplus.graph_from_dot_data(dot_data)\n",
    "# Show graph\n",
    "Image(graph.create_png())"
   ]
  },
  {
   "cell_type": "code",
   "execution_count": null,
   "id": "224b3067",
   "metadata": {},
   "outputs": [],
   "source": [
    " # Saving the tree as PDF\n",
    "file_path = Path(\"Resources/wine_tree.pdf\")\n",
    "graph.write_pdf(file_path)\n",
    "# Saving the tree as PNG\n",
    "file_path = Path(\"Resources/wine_tree.png\")\n",
    "graph.write_png(file_path)"
   ]
  },
  {
   "cell_type": "code",
   "execution_count": null,
   "id": "f234e700",
   "metadata": {},
   "outputs": [],
   "source": []
  },
  {
   "cell_type": "markdown",
   "id": "9ae5db61",
   "metadata": {},
   "source": [
    "# Data Preprocessing"
   ]
  },
  {
   "cell_type": "code",
   "execution_count": null,
   "id": "2d9986db",
   "metadata": {
    "scrolled": true
   },
   "outputs": [],
   "source": [
    "# Separate the data and label\n",
    "X = df_joined.drop(['quality','description'],axis=1)\n",
    "print(X)"
   ]
  },
  {
   "cell_type": "markdown",
   "id": "869fb46e",
   "metadata": {},
   "source": [
    "### Label Encoding"
   ]
  },
  {
   "cell_type": "code",
   "execution_count": null,
   "id": "fdc96f0c",
   "metadata": {},
   "outputs": [],
   "source": [
    "y = df_joined['description'].apply(lambda value:1 if value=='Good' else 0)\n",
    "print(y)"
   ]
  },
  {
   "cell_type": "markdown",
   "id": "67c48484",
   "metadata": {},
   "source": [
    "**1 is \"good\" quality wine and 0 is \"not good\" quality wine**"
   ]
  },
  {
   "cell_type": "markdown",
   "id": "8b24ba6b",
   "metadata": {},
   "source": [
    "### Training and Spliting Data"
   ]
  },
  {
   "cell_type": "code",
   "execution_count": null,
   "id": "9b308044",
   "metadata": {},
   "outputs": [],
   "source": [
    "X_train, X_test, y_train, y_test = train_test_split(X, y, train_size=0.80, random_state = 78)\n"
   ]
  },
  {
   "cell_type": "code",
   "execution_count": null,
   "id": "6c46754f",
   "metadata": {},
   "outputs": [],
   "source": [
    "# Determine the shape of our training and testing sets.\n",
    "print(X_train.shape)\n",
    "print(X_test.shape)\n",
    "print(y_train.shape)\n",
    "print(y_test.shape)"
   ]
  },
  {
   "cell_type": "code",
   "execution_count": null,
   "id": "be497386",
   "metadata": {},
   "outputs": [],
   "source": [
    "# Creating a StandardScaler instance.\n",
    "scaler = StandardScaler()\n",
    "# Fitting the Standard Scaler with the training data.\n",
    "X_scaler = scaler.fit(X_train)\n",
    "\n",
    "# Scaling the data.\n",
    "X_train_scaled = X_scaler.transform(X_train)\n",
    "X_test_scaled = X_scaler.transform(X_test)"
   ]
  },
  {
   "cell_type": "markdown",
   "id": "01da6cc9",
   "metadata": {},
   "source": [
    "### Train the ML Model with Random Forest Classifier"
   ]
  },
  {
   "cell_type": "code",
   "execution_count": null,
   "id": "eacd2b89",
   "metadata": {},
   "outputs": [],
   "source": [
    "## Assigning the RandomForestClassifier to a variable\n",
    "rf_model = RandomForestClassifier(n_estimators=128, random_state=78)"
   ]
  },
  {
   "cell_type": "code",
   "execution_count": null,
   "id": "74d5cf6b",
   "metadata": {},
   "outputs": [],
   "source": [
    "## Fitting the model\n",
    "rf_model = rf_model.fit(X_train_scaled, y_train)\n"
   ]
  },
  {
   "cell_type": "markdown",
   "id": "44b43129",
   "metadata": {},
   "source": [
    "### Evaluate the model using accuracy score value"
   ]
  },
  {
   "cell_type": "code",
   "execution_count": null,
   "id": "1011ad6d",
   "metadata": {},
   "outputs": [],
   "source": [
    "## Making predictions using the testing data.\n",
    "predictions = rf_model.predict(X_test_scaled)\n",
    "predictions"
   ]
  },
  {
   "cell_type": "code",
   "execution_count": null,
   "id": "56bd6902",
   "metadata": {},
   "outputs": [],
   "source": [
    "# Calculating the accuracy score.\n",
    "acc_score = accuracy_score(y_test, predictions)\n",
    "acc_score"
   ]
  },
  {
   "cell_type": "markdown",
   "id": "6ebeba04",
   "metadata": {},
   "source": [
    "**Observation:**\n",
    "- The accuracy score is 93, which means that out of 100 predictions, our model can correctly predict for 93 values"
   ]
  },
  {
   "cell_type": "code",
   "execution_count": null,
   "id": "981d38e2",
   "metadata": {
    "scrolled": true
   },
   "outputs": [],
   "source": [
    "# Calculating the confusion matrix.\n",
    "cm = confusion_matrix(y_test, predictions)\n",
    "cm"
   ]
  },
  {
   "cell_type": "code",
   "execution_count": null,
   "id": "4e2cdb67",
   "metadata": {},
   "outputs": [],
   "source": [
    "# Creating a DataFrame from the confusion matrix.\n",
    "cm_df = pd.DataFrame(\n",
    "    cm, index=[\"Actual 0\", \"Actual 1\"], columns=[\"Predicted 0\", \"Predicted 1\"])\n",
    "\n",
    "cm_df"
   ]
  },
  {
   "cell_type": "markdown",
   "id": "57e0755d",
   "metadata": {},
   "source": [
    "**Observations:**\n",
    "- True positives: 278\n",
    "- False positives: 16\n",
    "- False negatives: 5\n",
    "- True negatives: 21"
   ]
  },
  {
   "cell_type": "code",
   "execution_count": null,
   "id": "9ff0e40f",
   "metadata": {},
   "outputs": [],
   "source": [
    "# Displaying results\n",
    "print(\"Confusion Matrix\")\n",
    "display(cm_df)\n",
    "print(f\"Accuracy Score : {acc_score}\")\n",
    "print(\"Classification Report\")\n",
    "print(classification_report(y_test, predictions))"
   ]
  },
  {
   "cell_type": "code",
   "execution_count": null,
   "id": "f4fbfb95",
   "metadata": {},
   "outputs": [],
   "source": [
    "# Calculating the feature importance\n",
    "importances = rf_model.feature_importances_\n",
    "importances"
   ]
  },
  {
   "cell_type": "code",
   "execution_count": null,
   "id": "43d27789",
   "metadata": {},
   "outputs": [],
   "source": [
    "# We can sort the features by their importance.\n",
    "sorted(zip(rf_model.feature_importances_, X.columns), reverse=True)"
   ]
  },
  {
   "cell_type": "markdown",
   "id": "d69fe60a",
   "metadata": {},
   "source": [
    "**Observation:**\n",
    "- Alcohol, sulphase and volatile acidity are the more important features for the model"
   ]
  },
  {
   "cell_type": "code",
   "execution_count": null,
   "id": "c977d3e0",
   "metadata": {},
   "outputs": [],
   "source": []
  }
 ],
 "metadata": {
  "kernelspec": {
   "display_name": "mlenv",
   "language": "python",
   "name": "mlenv"
  },
  "language_info": {
   "codemirror_mode": {
    "name": "ipython",
    "version": 3
   },
   "file_extension": ".py",
   "mimetype": "text/x-python",
   "name": "python",
   "nbconvert_exporter": "python",
   "pygments_lexer": "ipython3",
   "version": "3.7.10"
  }
 },
 "nbformat": 4,
 "nbformat_minor": 5
}
